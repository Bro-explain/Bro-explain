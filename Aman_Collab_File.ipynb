{
  "cells": [
    {
      "cell_type": "markdown",
      "metadata": {
        "id": "view-in-github",
        "colab_type": "text"
      },
      "source": [
        "<a href=\"https://colab.research.google.com/github/Bro-explain/Bro-explain/blob/main/Aman_Collab_File.ipynb\" target=\"_parent\"><img src=\"https://colab.research.google.com/assets/colab-badge.svg\" alt=\"Open In Colab\"/></a>"
      ]
    },
    {
      "cell_type": "markdown",
      "metadata": {
        "id": "nNhAdwhvfawg"
      },
      "source": [
        "#basic"
      ]
    },
    {
      "cell_type": "code",
      "execution_count": null,
      "metadata": {
        "id": "u66IRIxqqfAn"
      },
      "outputs": [],
      "source": [
        "!ls\n",
        "!cat /proc/cpuinfo\n",
        "!cat /proc/meminfo"
      ]
    },
    {
      "cell_type": "markdown",
      "metadata": {
        "id": "x1MN98aosiPI"
      },
      "source": [
        "#Section"
      ]
    },
    {
      "cell_type": "code",
      "execution_count": null,
      "metadata": {
        "id": "nSnyl6bqvLGB"
      },
      "outputs": [],
      "source": [
        "a=10\n",
        "a+5\n",
        "b=10\n",
        "a+b\n",
        "type(a)\n",
        "\n",
        "c=a+b\n",
        "#_+c/20"
      ]
    },
    {
      "cell_type": "markdown",
      "metadata": {
        "id": "uUvFIKIJvJjE"
      },
      "source": [
        "Q. cocatinate of two string"
      ]
    },
    {
      "cell_type": "code",
      "execution_count": null,
      "metadata": {
        "id": "35pRpYsrx-A6"
      },
      "outputs": [],
      "source": [
        "branch=\"MCA\"\n",
        "branch = \"mca\"\n",
        "print(branch)\n",
        "print(id(branch))\n",
        "branch+\"10117\""
      ]
    },
    {
      "cell_type": "markdown",
      "metadata": {
        "id": "vSAnNB7BvZPf"
      },
      "source": [
        "Q. use of print statement"
      ]
    },
    {
      "cell_type": "code",
      "execution_count": null,
      "metadata": {
        "id": "uXudPnh_zk5k"
      },
      "outputs": [],
      "source": [
        "print(\"hello\")\n",
        "friend=\"Aman\"\n",
        "print(\"hello\",friend)\n",
        "print(f\"{friend} hello\")"
      ]
    },
    {
      "cell_type": "code",
      "execution_count": null,
      "metadata": {
        "id": "C6Xk7uNY297v"
      },
      "outputs": [],
      "source": [
        "name=\"A\"\n",
        "name2=\"B\"\n",
        "print(id(name))\n",
        "print(id('A'))\n",
        "print(id(name2))\n",
        "print(id(\"B\"))"
      ]
    },
    {
      "cell_type": "code",
      "execution_count": null,
      "metadata": {
        "id": "rh3Bs-X44qYV"
      },
      "outputs": [],
      "source": [
        "sName=\"Aman\"\n",
        "age=24\n",
        "is_new=True\n",
        "print(\"Name =\",sName,\"Age\",age,\"is a new student\",is_new)"
      ]
    },
    {
      "cell_type": "code",
      "execution_count": null,
      "metadata": {
        "id": "iKNsCuPc7x4t"
      },
      "outputs": [],
      "source": [
        "name=input(\" Enter your name \")\n",
        "age=input(\" Enter your age \")\n",
        "print(name,age)"
      ]
    },
    {
      "cell_type": "markdown",
      "metadata": {
        "id": "x_1RKQkHfORy"
      },
      "source": [
        "#date 09/12/2024"
      ]
    },
    {
      "cell_type": "code",
      "execution_count": null,
      "metadata": {
        "id": "_rV3PQVaa2MJ"
      },
      "outputs": [],
      "source": [
        "age = int (input(\"enter your age \"))\n",
        "year = 2024 - age\n",
        "print(year)\n",
        "print(\"Aman Kumar Singh\")\n",
        "print(\"24MCA10047\")"
      ]
    },
    {
      "cell_type": "code",
      "execution_count": null,
      "metadata": {
        "id": "gnO4JTlEdbuT"
      },
      "outputs": [],
      "source": [
        "print('''\n",
        "this is 1st line\n",
        "this is 2nd line\n",
        "this is 3rd line\n",
        "this is 4th line\n",
        "''')\n",
        "print(\"Aman Kumar Singh \")\n",
        "print(\"24MCA10047\")"
      ]
    },
    {
      "cell_type": "code",
      "execution_count": null,
      "metadata": {
        "id": "YIKsdh96f3sM"
      },
      "outputs": [],
      "source": [
        "str = \"course Registration\"\n",
        "print(str[0])\n",
        "print(str[1:4])\n",
        "print(str[:])\n",
        "print(str[::-1])\n",
        "print(str[::2])\n",
        "print(str[0:12:3])\n",
        "print(str[::-3])\n",
        "print(str[-4:])\n",
        "print(str[-8:-1:-2])\n",
        "print(str[-8:-1:2])\n",
        "print(str[:-1])\n",
        "\n",
        "print(\"Aman Kumar Singh\")\n",
        "print(\"24MCA10047\")"
      ]
    },
    {
      "cell_type": "code",
      "execution_count": null,
      "metadata": {
        "id": "nuZaww12mckl"
      },
      "outputs": [],
      "source": [
        "str1=\"this is string 1\"\n",
        "str2=str1\n",
        "str3=\"this is string 3\"\n",
        "print (str2)\n",
        "print(str1+ str3)\n",
        "\n",
        "print(\"Aman Kumar Singh\")\n",
        "print(\"24MCA10047\")"
      ]
    },
    {
      "cell_type": "code",
      "execution_count": null,
      "metadata": {
        "id": "702Vf_lloAv8"
      },
      "outputs": [],
      "source": [
        "fname= input(\"enter your name \")\n",
        "lname= input(\"enter last name \")\n",
        "print(fname + \"[\"+ lname+\"]\")\n",
        "print(f'{fname} {lname}')\n",
        "msg = f'{fname} [{lname}] is a student'\n",
        "print(msg)"
      ]
    },
    {
      "cell_type": "markdown",
      "metadata": {
        "id": "YtoYEsttuy9e"
      },
      "source": [
        "#11/12/24"
      ]
    },
    {
      "cell_type": "markdown",
      "metadata": {
        "id": "fER_Cu8JyX9X"
      },
      "source": [
        "IN and FIND operator"
      ]
    },
    {
      "cell_type": "code",
      "execution_count": null,
      "metadata": {
        "id": "rG1qhWeVu66F"
      },
      "outputs": [],
      "source": [
        "x=[\"Aman Kumar Singh\", \"shridhar\"]\n",
        "print(\"Aman Kumar Singh\" in x)\n",
        "print(\"aman\" in x)"
      ]
    },
    {
      "cell_type": "code",
      "execution_count": null,
      "metadata": {
        "id": "Ci5iiY3Uv6B_"
      },
      "outputs": [],
      "source": [
        "str=\"this is an example using find operator\"\n",
        "ans=str.find(\"example\")\n",
        "print(ans)\n",
        "new_ans= str.replace(\"find\" ,\"FIND\" )\n",
        "print(new_ans)\n",
        "\n",
        "print(\"Aman Kumar Singh\")\n",
        "print(\"24MCA10047\")"
      ]
    },
    {
      "cell_type": "markdown",
      "metadata": {
        "id": "MKjkrpayyf8V"
      },
      "source": [
        "Arithmetic operator"
      ]
    },
    {
      "cell_type": "code",
      "execution_count": null,
      "metadata": {
        "id": "4a8LYiHPypRw"
      },
      "outputs": [],
      "source": [
        "\n",
        "a=5\n",
        "b=5\n",
        "c=3.6\n",
        "add = a+-b\n",
        "sub = a--b\n",
        "mult = a*+b\n",
        "div = a/-b\n",
        "print(add)\n",
        "print(sub)\n",
        "print(mult)\n",
        "print(div)\n",
        "print(c+b)\n",
        "\n",
        "print(\"Aman Kumar Singh\")\n",
        "print(\"24MCA10047\")"
      ]
    },
    {
      "cell_type": "code",
      "execution_count": null,
      "metadata": {
        "id": "yVev6Qzt7NyR"
      },
      "outputs": [],
      "source": [
        "add=10+3*2**3//4\n",
        "print(add)\n",
        "\n",
        "print(\"Aman Kumar Singh\")\n",
        "print(\"24MCA10047\")"
      ]
    },
    {
      "cell_type": "code",
      "execution_count": null,
      "metadata": {
        "id": "Y7Zj0GZt-FAT"
      },
      "outputs": [],
      "source": [
        "a = int (input(\"enter your age\"))\n",
        "if age>18:\n",
        "    print(\"eligible to vote\")\n",
        "else:\n",
        "     print(\"below age limit\")\n",
        "\n",
        "print(\"Aman Kumar Singh\")\n",
        "print(\"24MCA10047\")"
      ]
    },
    {
      "cell_type": "code",
      "execution_count": null,
      "metadata": {
        "id": "WNxIEjFcAfsJ"
      },
      "outputs": [],
      "source": [
        "\n",
        "\n",
        "age = int(input(\"Enter your age: \"))\n",
        "\n",
        "if age > 18:\n",
        "    print(\"Eligible to vote\")\n",
        "else:\n",
        "    print(\"Below age limit\")"
      ]
    },
    {
      "cell_type": "code",
      "source": [],
      "metadata": {
        "id": "oxwMApUZyEGb"
      },
      "execution_count": null,
      "outputs": []
    },
    {
      "cell_type": "markdown",
      "metadata": {
        "id": "MSnRpmtYeABY"
      },
      "source": [
        "#16/12/2024\n"
      ]
    },
    {
      "cell_type": "code",
      "execution_count": null,
      "metadata": {
        "id": "cd6vDM-QeJef"
      },
      "outputs": [],
      "source": [
        "num = int(input(\"enter number\"))\n",
        "if(num >= 0):\n",
        "  print(\"number is positive\")\n",
        "else:\n",
        "  print(\"number is negative\")\n",
        "\n",
        "print(\"Aman Kumar Singh\")\n",
        "print(\"24MCA10047\")"
      ]
    },
    {
      "cell_type": "code",
      "execution_count": null,
      "metadata": {
        "id": "5FWP5m9khjlq"
      },
      "outputs": [],
      "source": [
        "n=eval(input(\"enter number \"))\n",
        "if(n>0):\n",
        "  print(\"number is positive\")\n",
        "elif(n<0):\n",
        "  print(\"number is negative\")\n",
        "else:\n",
        "  print(\"number is zero\")\n",
        "\n",
        "print(\"Aman Kumar Singh\")\n",
        "print(\"24MCA10047\")"
      ]
    },
    {
      "cell_type": "code",
      "execution_count": null,
      "metadata": {
        "id": "CO1aKjbDgpUS"
      },
      "outputs": [],
      "source": [
        "n=int(input(\"enter number\"))\n",
        "if(n%2==0):\n",
        "  print(\"number is even\")\n",
        "else:\n",
        "  print(\"number is odd\")\n",
        "\n",
        "print(\"Aman Kumar Singh\")\n",
        "print(\"24MCA10047\")"
      ]
    },
    {
      "cell_type": "code",
      "execution_count": null,
      "metadata": {
        "id": "WXHnBI7chNx9"
      },
      "outputs": [],
      "source": [
        "num = int(input(\"enter year \"))\n",
        "if(num % 4 == 0):\n",
        "  print(\"leap year\")\n",
        "else:\n",
        "  print(\"not a leap year\")\n",
        "\n",
        "print(\"Aman Kumar Singh\")\n",
        "print(\"24MCA10047\")"
      ]
    },
    {
      "cell_type": "code",
      "execution_count": null,
      "metadata": {
        "id": "wHhVjPhghkTZ"
      },
      "outputs": [],
      "source": [
        "num1 = eval(input(\"enter first number \"))\n",
        "num2 = eval(input(\"enter second number \"))\n",
        "num3 = eval(input(\"enter third number \"))\n",
        "\n",
        "if(num1 > num2 and num1 > num3):\n",
        "  print(\"first number is greater\")\n",
        "elif(num2 > num1 and num2 > num3):\n",
        "  print(\"second number is greater\")\n",
        "else:\n",
        "  print(\"third number is greater :-\",num3)\n",
        "\n",
        "print(\"Aman Kumar Singh\")\n",
        "print(\"24MCA10047\")"
      ]
    },
    {
      "cell_type": "code",
      "execution_count": null,
      "metadata": {
        "id": "sIF2WVb2lHnp"
      },
      "outputs": [],
      "source": [
        "num=int(input(\"enter the year \"))\n",
        "if(num%100==0 and num%400==0):\n",
        "    print(\"leap year\")\n",
        "else:\n",
        "      print(\"not a leap year\")\n",
        "\n",
        "print(\"Aman Kumar Singh\")\n",
        "print(\"24MCA10047\")"
      ]
    },
    {
      "cell_type": "code",
      "execution_count": null,
      "metadata": {
        "id": "Lx1dLJDGnKLG"
      },
      "outputs": [],
      "source": [
        "mark = eval(input(\"enter your mark Aman Kumar Singh \"))\n",
        "if(mark >= 50):\n",
        "  print(\"grade S\")\n",
        "elif(mark >= 45):\n",
        "  print(\"grade A\")\n",
        "elif(mark >= 40):\n",
        "  print(\"grade B\")\n",
        "elif(mark >= 30):\n",
        "  print(\"grade C\")\n",
        "elif(mark >= 20):\n",
        "  print(\"grade D\")\n",
        "else:\n",
        "  print(\"fail\")"
      ]
    },
    {
      "cell_type": "code",
      "execution_count": null,
      "metadata": {
        "id": "QVjtO6uMpRMi"
      },
      "outputs": [],
      "source": [
        "num=int(input(\"enter number \"))\n",
        "s=0\n",
        "while (num>0):\n",
        "  s=s+num\n",
        "  num=num-1\n",
        "print(s)\n",
        "\n",
        "print(\"Aman Kumar Singh\")\n",
        "print(\"24MCA10047\")"
      ]
    },
    {
      "cell_type": "markdown",
      "metadata": {
        "id": "fID3hJKkwI5_"
      },
      "source": [
        "#18/12/20"
      ]
    },
    {
      "cell_type": "markdown",
      "metadata": {
        "id": "-7wrJnDt0o8W"
      },
      "source": [
        "2nd method with the help of max function"
      ]
    },
    {
      "cell_type": "code",
      "execution_count": null,
      "metadata": {
        "id": "DzX1Qu2uw0cu"
      },
      "outputs": [],
      "source": [
        "num1 = eval(input(\"enter first number \"))\n",
        "num2 = eval(input(\"enter second number \"))\n",
        "num3 = eval(input(\"enter third number \"))\n",
        "\n",
        "print(\"the maximim number is :\",max(num1,num2,num3))\n",
        "\n",
        "print(\"Aman Kumar Singh\")\n",
        "print(\"24MCA10047\")"
      ]
    },
    {
      "cell_type": "markdown",
      "metadata": {
        "id": "odmH7r-S16d5"
      },
      "source": [
        "3rd method with the help of function"
      ]
    },
    {
      "cell_type": "code",
      "execution_count": null,
      "metadata": {
        "id": "5RQe-sK81-8U"
      },
      "outputs": [],
      "source": [
        "def findLargest(num1, num2, num3):\n",
        "    largest = num1\n",
        "    if num2 > largest:\n",
        "        largest = num2\n",
        "    if num3 > largest:\n",
        "        largest = num3\n",
        "    return largest\n",
        "\n",
        "#defining main function\n",
        "num1 = eval(input(\"Enter first number: \"))\n",
        "num2 = eval(input(\"Enter second number: \"))\n",
        "num3 = eval(input(\"Enter third number: \"))\n",
        "\n",
        "result = findLargest(num1, num2, num3)\n",
        "print(f\"The largest value among {num1}, {num2}, and {num3} is {result}\")\n",
        "\n",
        "print(\"Aman Kumar Singh\")\n",
        "print(\"24MCA10047\")\n",
        "\n"
      ]
    },
    {
      "cell_type": "markdown",
      "metadata": {
        "id": "XG-DuTJ12772"
      },
      "source": [
        "4th method"
      ]
    },
    {
      "cell_type": "code",
      "execution_count": null,
      "metadata": {
        "id": "mrIpnNUq2-q1"
      },
      "outputs": [],
      "source": [
        "# Taking input safely\n",
        "num1 = float(input(\"Enter first number: \"))\n",
        "num2 = float(input(\"Enter second number: \"))\n",
        "num3 = float(input(\"Enter third number: \"))\n",
        "\n",
        "# Finding the largest number using a ternary operator\n",
        "result = num1 if (num1 > num2 and num1 > num3) else (num2 if (num2 > num3) else num3)\n",
        "\n",
        "# Displaying the result\n",
        "print(f\"\\nThe largest value among {num1}, {num2}, and {num3} is {result}\")\n",
        "\n",
        "# Printing student details\n",
        "print(\"\\nAman Kumar Singh\")\n",
        "print(\"24MCA10047\")"
      ]
    },
    {
      "cell_type": "markdown",
      "metadata": {
        "id": "cdUlEAMp5OwD"
      },
      "source": [
        "5th method"
      ]
    },
    {
      "cell_type": "code",
      "execution_count": null,
      "metadata": {
        "id": "Da5G8uSD5Q1R"
      },
      "outputs": [],
      "source": [
        "#input 3 number\n",
        "num1 = float(input(\"Enter first number: \"))\n",
        "num2 = float(input(\"Enter second number: \"))\n",
        "num3 = float(input(\"Enter third number: \"))\n",
        "\n",
        "sortedNum = sorted([num1, num2, num3])\n",
        "ans = sortedNum[-1]\n",
        "print(\"The largest value among\", num1, \",\", num2, \", and\", num3, \"is\", result)\n",
        "\n",
        "print(\"Aman Kumar Singh\")\n",
        "print(\"24MCA10047\")\n"
      ]
    },
    {
      "cell_type": "markdown",
      "metadata": {
        "id": "FoSB6e7y9a4o"
      },
      "source": [
        "6th method"
      ]
    },
    {
      "cell_type": "code",
      "execution_count": null,
      "metadata": {
        "id": "s060ZAXX6-v_"
      },
      "outputs": [],
      "source": [
        "numbers = [float(input(\"Enter number {} :\".format(i+1))) for i in range(3)]\n",
        "\n",
        "largestNumber = numbers[0]\n",
        "for num in numbers:\n",
        "  if num > largestNumber:\n",
        "    largestNumber = num\n",
        "\n",
        "print(f\"the largest number is {largestNumber}\")\n",
        "\n",
        "print(\"Aman Kumar Singh\")\n",
        "print(\"24MCA10047\")"
      ]
    },
    {
      "cell_type": "markdown",
      "metadata": {
        "id": "qS1KnY7D97Fs"
      },
      "source": [
        "find ASCII"
      ]
    },
    {
      "cell_type": "code",
      "execution_count": null,
      "metadata": {
        "id": "rltqX82y9-hX"
      },
      "outputs": [],
      "source": [
        "alpha = \"ABCDEFGHIJKLMNOPQRSTUVWXYZ\"\n",
        "for ch in alpha:\n",
        "  print(\"character : \"+ ch + \", ASCII value: \",ord(ch))\n",
        "\n",
        "print(\"Aman Kumar Singh\")\n",
        "print(\"24MCA10047\")"
      ]
    },
    {
      "cell_type": "code",
      "execution_count": null,
      "metadata": {
        "id": "idMidOQN_9yw"
      },
      "outputs": [],
      "source": [
        "import string\n",
        "alpha = string.ascii_lowercase\n",
        "for char in alpha:\n",
        "  print(\"character : \"+ char + \", ASCII value: \",ord(char))\n",
        "\n",
        "print(\"Aman Kumar Singh\")\n",
        "print(\"24MCA10047\")"
      ]
    },
    {
      "cell_type": "markdown",
      "metadata": {
        "id": "uKunqL0Uiwbc"
      },
      "source": [
        "#task\n"
      ]
    },
    {
      "cell_type": "code",
      "execution_count": null,
      "metadata": {
        "id": "Uh0c-R2LzASR"
      },
      "outputs": [],
      "source": [
        "# Conditional statement\n",
        "age = int(input(\"Enter your age: \"))\n",
        "if age >= 18:\n",
        "    print(\"You are eligible to vote.\")\n",
        "else:\n",
        "    print(\"You are not eligible to vote.\")"
      ]
    },
    {
      "cell_type": "code",
      "execution_count": null,
      "metadata": {
        "id": "awNIiGUfzGrA"
      },
      "outputs": [],
      "source": [
        "# Iteration (for loop)\n",
        "#table of 5\n",
        "for i in range(10):\n",
        "    print(\"5 X\",i+1,\"=\",5*(i+1))"
      ]
    },
    {
      "cell_type": "code",
      "execution_count": null,
      "metadata": {
        "id": "pS1x29cJzNFD"
      },
      "outputs": [],
      "source": [
        "# String formatting\n",
        "name = \"Aman Kumar Singh\"\n",
        "age = 24\n",
        "print(f\"My name is {name} and I am {age} years old.\")"
      ]
    },
    {
      "cell_type": "code",
      "execution_count": null,
      "metadata": {
        "id": "X2Y8EDM-zZwW"
      },
      "outputs": [],
      "source": [
        "# String manipulation\n",
        "message = \"Aman Kumar Singh\"\n",
        "print(message.upper())\n",
        "print(message[0:5])"
      ]
    },
    {
      "cell_type": "code",
      "execution_count": null,
      "metadata": {
        "id": "FuB7FtAOzlGd"
      },
      "outputs": [],
      "source": [
        "# List operations\n",
        "my_list = [1, 2, 3, 4, 5]\n",
        "print(len(my_list))\n",
        "my_list.append(6)\n",
        "print(my_list)\n",
        "my_list.remove(3)\n",
        "print(my_list)"
      ]
    },
    {
      "cell_type": "markdown",
      "metadata": {
        "id": "DzHFiFSnu-HZ"
      },
      "source": [
        "#Array"
      ]
    },
    {
      "cell_type": "markdown",
      "metadata": {
        "id": "Qp60_McpvCHo"
      },
      "source": [
        "1D array\n",
        "2D array\n",
        "3D array"
      ]
    },
    {
      "cell_type": "code",
      "execution_count": null,
      "metadata": {
        "id": "-Ms3o518vI6d"
      },
      "outputs": [],
      "source": [
        "import numpy as np\n",
        "rng = np.random.default_rng(seed=1701) # seed for reproducibility\n",
        "x1 = rng.integers(10, size=6) # one-dimensional array\n",
        "x2 = rng.integers(10, size=(3, 4)) # two-dimensional array\n",
        "x3 = rng.integers(10, size=(3, 4, 5)) # three-dimensional array\n",
        "\n",
        "print(\"x3 ndim: \", x3.ndim)\n",
        "print(\"x3 shape:\", x3.shape)\n",
        "print(\"x3 size: \", x3.size)\n",
        "print(\"dtype: \", x3.dtype)\n",
        "\n",
        "print(\"Aman Kumar Singh\")\n",
        "print(\"24MCA10047\")\n",
        "\n"
      ]
    },
    {
      "cell_type": "code",
      "execution_count": null,
      "metadata": {
        "id": "ywUv19mnwEnv"
      },
      "outputs": [],
      "source": [
        "\n",
        "import numpy as np\n",
        "\n",
        "arr = np.array([9, 4, 0, 3, 8, 6])\n",
        "\n",
        "print(arr[0])\n",
        "print(arr[4])\n",
        "print(arr[-1])\n",
        "\n",
        "print(\"Aman Kumar Singh\")\n",
        "print(\"24MCA10047\")\n"
      ]
    },
    {
      "cell_type": "code",
      "execution_count": null,
      "metadata": {
        "id": "YSyM4Xnqxnaq"
      },
      "outputs": [],
      "source": [
        "import numpy as np\n",
        "arr = np.array([[3, 1, 3, 7],\n",
        "                [4, 0, 2, 3],\n",
        "                [0, 0, 6, 9]])\n",
        "\n",
        "\n",
        "print(arr[0, 0])\n",
        "print(arr[2, 0])\n",
        "print(arr[2, -1])\n",
        "\n",
        "arr[0, 0] = 12\n",
        "print(arr[0, 0])\n",
        "\n",
        "print(\"Aman Kumar Singh\")\n",
        "print(\"24MCA10047\")"
      ]
    },
    {
      "cell_type": "code",
      "execution_count": null,
      "metadata": {
        "id": "IwcLNLjM0JYO"
      },
      "outputs": [],
      "source": [
        "import numpy as np\n",
        "\n",
        "arr = np.array([[1, 2, 3],\n",
        "                [4, 5, 6],\n",
        "                [7, 8, 9]])\n",
        "\n",
        "print(arr[:2, 1:])\n",
        "print(arr[1:, :2])\n",
        "print(arr[::2, ::2])\n",
        "\n",
        "print(\"Aman Kumar Singh\")\n",
        "print(\"24MCA10047\")\n"
      ]
    },
    {
      "cell_type": "code",
      "execution_count": null,
      "metadata": {
        "id": "xGcfjaV_0dxu"
      },
      "outputs": [],
      "source": [
        "import numpy as np\n",
        "\n",
        "arr = np.array([[1, 2, 3],\n",
        "                [4, 5, 6],\n",
        "                [7, 8, 9]])\n",
        "\n",
        "print(\"First row:\", arr[0])\n",
        "print(\"Second row:\", arr[1])\n",
        "\n",
        "print(\"First column:\", arr[:, 0])\n",
        "print(\"Third column:\", arr[:, 2])\n",
        "\n",
        "print(\"Aman Kumar Singh\")\n",
        "print(\"24MCA10047\")\n"
      ]
    },
    {
      "cell_type": "code",
      "execution_count": null,
      "metadata": {
        "id": "kAVQT7MJ0vqd"
      },
      "outputs": [],
      "source": [
        "import numpy as np\n",
        "\n",
        "arr = np.array([[12, 1, 3, 7],\n",
        "                [4, 0, 2, 3],\n",
        "                [0, 0, 6, 9]])\n",
        "\n",
        "sub_arr = arr[0:2, 1:3]\n",
        "print(sub_arr)\n",
        "sub_arr[0,0] = 99\n",
        "arr\n",
        "\n"
      ]
    },
    {
      "cell_type": "code",
      "execution_count": null,
      "metadata": {
        "id": "goTObSRa1O9V"
      },
      "outputs": [],
      "source": [
        "import numpy as np\n",
        "\n",
        "arr = np.array([[99, 1],\n",
        "                [4, 0]])\n",
        "\n",
        "arr_copy = arr.copy()\n",
        "\n",
        "print(\"Original array:\")\n",
        "print(arr)\n",
        "\n",
        "print(\"\\nCopied array:\")\n",
        "print(arr_copy)\n",
        "\n",
        "arr[0, 0] = 100\n",
        "\n",
        "print(\"\\nOriginal array after modification:\")\n",
        "print(arr)\n",
        "\n",
        "print(\"\\nCopied array (unchanged):\")\n",
        "arr_copy"
      ]
    },
    {
      "cell_type": "code",
      "execution_count": null,
      "metadata": {
        "id": "xka0hrdE1n9a"
      },
      "outputs": [],
      "source": [
        "import numpy as np\n",
        "\n",
        "arr = np.array([[1, 2, 3],\n",
        "                [4, 5, 6],\n",
        "                [7, 8, 9]])\n",
        "\n",
        "reshaped_arr = arr.reshape(1,9)\n",
        "print(reshaped_arr)\n",
        "reshaped_arr = arr.reshape(9,1)\n",
        "reshaped_arr"
      ]
    },
    {
      "cell_type": "code",
      "execution_count": null,
      "metadata": {
        "id": "cAePpTv42Wgh"
      },
      "outputs": [],
      "source": [
        "import numpy as np\n",
        "\n",
        "arr1 = np.array([1, 2, 3])\n",
        "arr2 = np.array([4, 5, 6])\n",
        "concatenated_arr = np.concatenate((arr1, arr2))\n",
        "print(\"Concatenated array:\", concatenated_arr)\n",
        "\n",
        "\n",
        "arr = np.array([1, 2, 3, 4, 5, 6])\n",
        "split_arr = np.split(arr, 3)\n",
        "print(\"Split arrays:\", split_arr)"
      ]
    },
    {
      "cell_type": "code",
      "execution_count": null,
      "metadata": {
        "id": "s6mdI4sr2d2v"
      },
      "outputs": [],
      "source": [
        "import numpy as np\n",
        "\n",
        "x = [1, 2, 3, 99, 99, 3, 2, 1]\n",
        "\n",
        "x1, x2, x3 = np.split(x, [3, 5])\n",
        "print(x1, x2, x3)"
      ]
    },
    {
      "cell_type": "code",
      "execution_count": null,
      "metadata": {
        "id": "f9hmrI7u3HuV"
      },
      "outputs": [],
      "source": [
        "import numpy as np\n",
        "\n",
        "array=([[ 0, 1, 2, 3],\n",
        " [ 4, 5, 6, 7],\n",
        " [ 8, 9, 10, 11],\n",
        " [12, 13, 14, 15]])\n",
        "\n",
        "grid = np.array(array)\n",
        "upper, lower = np.vsplit(grid, [2])\n",
        "print(upper)\n",
        "lower"
      ]
    },
    {
      "cell_type": "markdown",
      "metadata": {
        "id": "Idg4QAhYqBvH"
      },
      "source": [
        "#Pandas\n",
        "06/01/25\n"
      ]
    },
    {
      "cell_type": "code",
      "execution_count": null,
      "metadata": {
        "collapsed": true,
        "id": "8aCcQkDKqGju"
      },
      "outputs": [],
      "source": [
        "\n",
        "import pandas as pd\n",
        "#series example\n",
        "data_series= pd.Series([10, 20, 30, 40], index=['A', 'B', 'C','D' ,])\n",
        "print(data_series)\n",
        "\n",
        "#data_frame Example\n",
        "data_frame= pd.DataFrame({\n",
        "    'NAME': ['Alice', 'Bob', 'Charlie'],\n",
        "    'AGE': [25, 14, 46],\n",
        "    'GENDER': ['Female','Male','Male'],\n",
        "    'CITY': ['New York','San Fransisco','Los Angeles']\n",
        "})\n",
        "print(\"DataFrame: \\n\", data_frame)\n",
        "\n",
        "df = pd.DataFrame(data_frame)\n",
        "print(\"Original dataframe:\\n\",df)\n",
        "\n",
        "#selecting with loc(label-based)\n",
        "print(\"\\n Select row by label with .loc:\")\n",
        "print(df.loc[1])#Select the row with index label 1\n",
        "\n",
        "#selecting with iloc((integer-location based))\n",
        "print(\"\\n Select row by integer location with .iloc:\")\n",
        "print(df.iloc[2])#Select the row with integer index 2"
      ]
    },
    {
      "cell_type": "code",
      "execution_count": null,
      "metadata": {
        "id": "b_0wq2ebsxbw"
      },
      "outputs": [],
      "source": [
        "import pandas as pd\n",
        "\n",
        "# Sample DataFrame\n",
        "data = {'fare': [100, 200, 150, 120, 180]}  # Corrected 'fair' to 'fare'\n",
        "df = pd.DataFrame(data)\n",
        "\n",
        "# Adding a new column by broadcasting\n",
        "df['Discounted fare'] = df['fare'] * 0.9  # Applied discount of 10%\n",
        "print(\"\\nDataFrame after operation:\\n\", df)\n",
        "\n",
        "# Aggregation (mean of fare column)\n",
        "mean_fare = df['fare'].mean()  # Corrected 'fair' to 'fare'\n",
        "print(\"\\nMean fare:\", mean_fare)\n"
      ]
    },
    {
      "cell_type": "code",
      "execution_count": null,
      "metadata": {
        "id": "cpBzfJsiwo3O"
      },
      "outputs": [],
      "source": [
        "#example Dataframe\n",
        "import pandas as pd\n",
        "data_frame = pd.DataFrame({\n",
        "\n",
        "    'Driver':['alice','bob','charlie'],\n",
        "    'Age':[24,13,53],\n",
        "    'Sex':['F','M','F'],\n",
        "    'fair':[30,20.0,25.5]\n",
        "})\n",
        "df = pd.DataFrame(data_frame)\n",
        "print(\"Original dataframe:\\n\",df)\n",
        "\n",
        "#selecting with loc(label-based)\n",
        "print(\"\\n Select row by label with .loc:\")\n",
        "print(df.loc[1])#Select the row with index label 1\n",
        "\n",
        "#selecting with iloc((integer-location based))\n",
        "print(\"\\n Select row by integer location with .iloc:\")\n",
        "print(df.iloc[2])#Select the row with integer index 2"
      ]
    },
    {
      "cell_type": "code",
      "execution_count": null,
      "metadata": {
        "id": "Z_medKwf1n2e"
      },
      "outputs": [],
      "source": [
        "#introducing missing values\n",
        "import pandas as pd\n",
        "df.loc[1,'fair'] = None\n",
        "print(\"\\n Dataframe with missing values:\\n\",df)\n",
        "\n",
        "#check missing data\n",
        "print(\"\\n Missing data:\\n\",df.isna())# you can write isnull also\n",
        "\n",
        "#fill missing data\n",
        "df['fair'] = df['fair'].fillna(df['fair'].mean(), )\n",
        "print(\"\\n Dataframe after filling missing values:\\n\",df)"
      ]
    },
    {
      "cell_type": "code",
      "execution_count": null,
      "metadata": {
        "id": "6xDiZZCFyDVv"
      },
      "outputs": [],
      "source": [
        "#creating a multiindex dataframe\n",
        "import pandas as pd\n",
        "multi_index_data = pd.DataFrame({\n",
        "    'city':['London','London','Paris','Paris'],\n",
        "    'date':['2025-01-01','2025-01-05','2025-01-07','2025-01-09'],\n",
        "    'fair':[15.0,20.0,30.0,40.0]\n",
        "})\n",
        "multi_index_data = multi_index_data.set_index(['city','date'])\n",
        "print(\"hierachical indexing dataframe\",multi_index_data)\n",
        "\n",
        "print(multi_index_data.loc['London'])"
      ]
    },
    {
      "cell_type": "markdown",
      "metadata": {
        "id": "u88CLNmPHTro"
      },
      "source": [
        "#File Handling\n",
        "05/02/2025"
      ]
    },
    {
      "cell_type": "code",
      "execution_count": null,
      "metadata": {
        "id": "eD8goWePHjzT"
      },
      "outputs": [],
      "source": [
        "class MyClass:\n",
        "  SLOT_A = 80"
      ]
    },
    {
      "cell_type": "code",
      "execution_count": null,
      "metadata": {
        "id": "BmO6hH28J7sd"
      },
      "outputs": [],
      "source": [
        "A1=MyClass\n",
        "print(A1)"
      ]
    },
    {
      "cell_type": "code",
      "execution_count": null,
      "metadata": {
        "id": "dWiLEMZFK-KB"
      },
      "outputs": [],
      "source": [
        "class Student:\n",
        "  def __init__(self , name , age):\n",
        "    self.name = name\n",
        "    self.age = age\n",
        "\n",
        "  def __str__(self):\n",
        "    return f\"{self.name}({self.age})\"\n",
        "\n",
        "S1 = Student(\"Aman Kumar Singh\",24)\n",
        "print(S1)\n",
        "print(S1.name)\n",
        "print(S1.age)"
      ]
    },
    {
      "cell_type": "code",
      "execution_count": null,
      "metadata": {
        "id": "xu-T7-GFNDh_"
      },
      "outputs": [],
      "source": [
        "del S1.age #delete age from class student"
      ]
    },
    {
      "cell_type": "code",
      "execution_count": null,
      "metadata": {
        "id": "vEkXq8bkNIgB"
      },
      "outputs": [],
      "source": [
        "del S1 #deleting whole S1 class"
      ]
    },
    {
      "cell_type": "code",
      "execution_count": null,
      "metadata": {
        "id": "fCq352OFNkGi"
      },
      "outputs": [],
      "source": [
        "class Student:\n",
        "  pass\n",
        "\n",
        "  #by declaring student as pass we can use for a future purpose"
      ]
    },
    {
      "cell_type": "code",
      "execution_count": null,
      "metadata": {
        "id": "lfyYky5ZOCJ7"
      },
      "outputs": [],
      "source": [
        "class Student:\n",
        "  def __init__(self , name , age):\n",
        "    self.name = name\n",
        "    self.age = age\n",
        "\n",
        "  def  myfunt(self):\n",
        "    print(\"Hello my name is \" + self.name)\n",
        "\n",
        "S2 = Student(\"Aman Kumar Singh\",24)\n",
        "S2.myfunt()"
      ]
    },
    {
      "cell_type": "code",
      "execution_count": null,
      "metadata": {
        "id": "NLYKXC-JOp3C"
      },
      "outputs": [],
      "source": [
        "class Person:\n",
        "  def __init__(self , name , age , profession):\n",
        "    self.name = name\n",
        "    self.age = age\n",
        "    self.profession = profession\n",
        "\n",
        "  def  show(self):\n",
        "    print(\"Name:\", self.name, \",Age:\", self.age, \",Profession:\", self.profession)\n",
        "\n",
        "  def work(self):\n",
        "    print(self.name, \"working as a\", self.profession)\n",
        "\n",
        "s3 = Person(\"Aman Kumar Singh\",24,\"Student\")\n",
        "s3.show()\n",
        "s3.work()"
      ]
    },
    {
      "cell_type": "code",
      "execution_count": null,
      "metadata": {
        "id": "u-rZPHtcQQex"
      },
      "outputs": [],
      "source": [
        "A = Person(\"Aman Kumar Singh\",24,\"Student\")\n",
        "A.show()\n",
        "A.work()"
      ]
    },
    {
      "cell_type": "code",
      "execution_count": null,
      "metadata": {
        "id": "vr2K8k_1Qeek"
      },
      "outputs": [],
      "source": [
        "class Person:\n",
        "  def __init__(self , name , age):\n",
        "    self.name = name\n",
        "    self.age = age\n",
        "\n",
        "  def introductionself(self):\n",
        "    print(\"my name is \" + self.name)\n",
        "    # print(\"my age is \" + self.age) TypeError: can only concatenate str (not \"int\") to str\n",
        "    print(\"my age is \" , self.age)\n",
        "\n",
        "author = Person(\"B\",30)\n",
        "author.introductionself()"
      ]
    },
    {
      "cell_type": "code",
      "execution_count": null,
      "metadata": {
        "id": "beTdxhs8SWWF"
      },
      "outputs": [],
      "source": [
        "class STUDENT:\n",
        "  def __init__(self , fname , lname):\n",
        "    self.firstname = fname\n",
        "    self.lastname = lname\n",
        "\n",
        "  def printname(self):\n",
        "    print(self.firstname, self.lastname)\n",
        "\n",
        "x = STUDENT(\"Aman Kumar Singh\",\"Kishan\")\n",
        "x.printname()\n"
      ]
    },
    {
      "cell_type": "code",
      "execution_count": null,
      "metadata": {
        "id": "eJ4m7iqDSvIX"
      },
      "outputs": [],
      "source": [
        "class PG(STUDENT):\n",
        "  pass"
      ]
    },
    {
      "cell_type": "code",
      "execution_count": null,
      "metadata": {
        "id": "sAz6ebV5TbRb"
      },
      "outputs": [],
      "source": [
        "x1 = PG(\"Aman Kumar Singh\",\"Kishan\")\n",
        "x1.printname()"
      ]
    },
    {
      "cell_type": "code",
      "execution_count": null,
      "metadata": {
        "id": "UdvxIuedUAgZ"
      },
      "outputs": [],
      "source": [
        "class PG(STUDENT):\n",
        "  def __init__(self, fname, lname):\n",
        "    STUDENT.__init__(self, fname, lname)"
      ]
    },
    {
      "cell_type": "code",
      "execution_count": null,
      "metadata": {
        "id": "dqFp0S4PUPlp"
      },
      "outputs": [],
      "source": [
        "class PG(STUDENT):\n",
        "  def __init__(self, fname, lname):\n",
        "    super().__init__(fname, lname)\n",
        "    self.graduationyear = 2026"
      ]
    },
    {
      "cell_type": "code",
      "execution_count": null,
      "metadata": {
        "id": "uKxSuZIMUyso"
      },
      "outputs": [],
      "source": [
        "class STUDENT:\n",
        "  def __init__(self, fname, lname):\n",
        "    self.firstname = fname\n",
        "    self.lastname = lname\n",
        "\n",
        "  def __printname__(self):\n",
        "    print(self.firstname, self.lastname)\n",
        "\n",
        "class PG(STUDENT):\n",
        "  def __init__(self, fname, lname, year):\n",
        "    super().__init__(fname, lname)\n",
        "    self.graduationyear = year\n",
        "\n",
        "x= PG(\"Aman Kumar Singh\", \"Kishan\", 2026)\n",
        "print(x.graduationyear)\n",
        "print(x.firstname)\n",
        "print(x.lastname)\n",
        "\n"
      ]
    },
    {
      "cell_type": "markdown",
      "metadata": {
        "id": "RsZWfMK65D9Z"
      },
      "source": [
        "#Assignment using inheritance, encaplusation , overriding , polymorphsim\n",
        "date:10/02/2025"
      ]
    },
    {
      "cell_type": "code",
      "execution_count": null,
      "metadata": {
        "id": "RSHjtgHY5W3p"
      },
      "outputs": [],
      "source": [
        "class Vehicle:\n",
        "    def __init__(self, make, model, year, num_wheels):\n",
        "        self.make = make\n",
        "        self.model = model\n",
        "        self.year = year\n",
        "        self.num_wheels = num_wheels\n",
        "\n",
        "    def start_engine(self):\n",
        "        return \"Starting the engine.\"\n",
        "\n",
        "    def get_description(self):\n",
        "        return f\"{self.year} {self.make} {self.model} ({self.num_wheels} wheels)\"\n",
        "\n",
        "class Car(Vehicle):\n",
        "    def __init__(self, make, model, year, num_doors):\n",
        "        super().__init__(make, model, year, num_wheels=4)\n",
        "        self.num_doors = num_doors\n",
        "\n",
        "    def start_engine(self):\n",
        "        return \"Vroom! The car's engine start.\"\n",
        "\n",
        "    def get_description(self):\n",
        "        base_desc = super().get_description()\n",
        "        return f\"{base_desc}, {self.num_doors} doors\"\n",
        "\n",
        "class Motorcycle(Vehicle):\n",
        "    def __init__(self, make, model, year, has_sidecar):\n",
        "        super().__init__(make, model, year, num_wheels=2)\n",
        "        self.has_sidecar = has_sidecar\n",
        "\n",
        "    def start_engine(self):\n",
        "        return \"Vroom! The motorcycle's engine starts.\"\n",
        "\n",
        "    def get_description(self):\n",
        "        base_desc = super().get_description()\n",
        "        sidecar_info = \"with sidecar\" if self.has_sidecar else \"no sidecar\"\n",
        "        return f\"{base_desc}, {sidecar_info}\"\n",
        "\n",
        "car = Car(\"Tata\", \"Harriar\", 2022, 4)\n",
        "print(car.get_description())\n",
        "print(car.start_engine())\n",
        "\n",
        "motorcycle = Motorcycle(\"Yamaha\", \"Rx100\", 1990, True)\n",
        "print(motorcycle.get_description())\n",
        "print(motorcycle.start_engine())"
      ]
    },
    {
      "cell_type": "code",
      "execution_count": null,
      "metadata": {
        "id": "T6K4w0Ji9znZ"
      },
      "outputs": [],
      "source": [
        "mytuples = ('a','b','c')\n",
        "myit= iter(mytuples)\n",
        "\n",
        "print(next(myit))\n",
        "print(next(myit))\n",
        "print(next(myit))\n",
        "print(myit)\n",
        "print(myit)\n",
        "print(myit)"
      ]
    },
    {
      "cell_type": "code",
      "execution_count": null,
      "metadata": {
        "id": "uTel9zS8-u_g"
      },
      "outputs": [],
      "source": [
        "mytuples = \"Aman Kumar Singh\"\n",
        "myit= iter(mytuples)\n",
        "\n",
        "print(next(myit))\n",
        "print(next(myit))\n",
        "print(next(myit))\n",
        "print(next(myit))\n",
        "print(next(myit))\n",
        "print(myit)\n",
        "print(myit)\n",
        "print(myit)"
      ]
    },
    {
      "cell_type": "code",
      "execution_count": null,
      "metadata": {
        "id": "IERyKtUyDJrG"
      },
      "outputs": [],
      "source": [
        "print(\"this is some sentence in python\")\n",
        "\n",
        "x=5\n",
        "y=10\n",
        "print(f\"sum of {x} and {y} is {x+y}\")\n",
        "\n",
        "def greet(name):\n",
        "  return f\"hello,{name}!\"\n",
        "  print(greet(\"A\"))\n",
        "  if __name__==\"__main__\":\n",
        "    main()"
      ]
    },
    {
      "cell_type": "code",
      "execution_count": null,
      "metadata": {
        "id": "8sPtkL5fGGt1"
      },
      "outputs": [],
      "source": [
        "class MathOPerations:\n",
        "  def add(self , a , b , c=0):\n",
        "    return a + b + c\n",
        "\n",
        "math = MathOPerations()\n",
        "print(math.add(2, 3))\n",
        "print(math.add(2, 3, 4))"
      ]
    },
    {
      "cell_type": "markdown",
      "metadata": {
        "id": "zDik1-g3Jy8y"
      },
      "source": [
        "#Abstract Method\n",
        "12/02/2025"
      ]
    },
    {
      "cell_type": "code",
      "execution_count": null,
      "metadata": {
        "id": "h2zRWhXnKZ4K"
      },
      "outputs": [],
      "source": [
        "from abc import ABC, abstractmethod\n",
        "\n",
        "class Animal(ABC):\n",
        "    def __init__(self, name):\n",
        "        self.name = name\n",
        "\n",
        "    @abstractmethod\n",
        "    def make_sound(self):\n",
        "        pass\n",
        "\n",
        "class Dog(Animal):\n",
        "    def __init__(self, name, breed):\n",
        "        super().__init__(name)\n",
        "        self.__breed = breed\n",
        "\n",
        "    def get_breed(self):\n",
        "        return self.__breed\n",
        "\n",
        "    def make_sound(self):\n",
        "        print(f\"{self.name} ({self.__breed}) says: bhow bhow!\")\n",
        "\n",
        "dogs = [Dog(\"Tommy\", \"Kutta\"), Dog(\"Enternment\", \"Vodaphone\")]\n",
        "iterator = iter(dogs)\n",
        "\n",
        "while True:\n",
        "    try:\n",
        "        dog = next(iterator)\n",
        "        dog.make_sound()\n",
        "    except StopIteration:\n",
        "        break"
      ]
    },
    {
      "cell_type": "markdown",
      "source": [
        "#17/02/2025"
      ],
      "metadata": {
        "id": "-bYiUiQO63Jv"
      }
    },
    {
      "cell_type": "code",
      "source": [
        "#isinstance\n",
        "x=isinstance(5,int);\n",
        "print (x)"
      ],
      "metadata": {
        "id": "6EXO9AlQ67hP"
      },
      "execution_count": null,
      "outputs": []
    },
    {
      "cell_type": "code",
      "source": [
        "class Book:\n",
        "    def __init__(self, title, author, pages):\n",
        "        self.title = title\n",
        "        self.author = author\n",
        "        self.pages = pages\n",
        "\n",
        "    def __str__(self):\n",
        "        \"\"\"String representation for end users\"\"\"\n",
        "        return f\"{self.title} by {self.author}\"\n",
        "\n",
        "    def __repr__(self):\n",
        "        \"\"\"String representation for developers\"\"\"\n",
        "        return f\"Book('{self.title}', '{self.author}', {self.pages})\"\n",
        "\n",
        "    def __len__(self):\n",
        "        return self.pages\n",
        "\n",
        "    def __eq__(self, other):\n",
        "        if not isinstance(other, Book):\n",
        "            return NotImplemented\n",
        "        return self.title == other.title and self.author == other.author\n",
        "\n",
        "    def __lt__(self, other):\n",
        "        if not isinstance(other, Book):\n",
        "            return NotImplemented\n",
        "        return self.pages < other.pages\n",
        "\n",
        "def main():\n",
        "    # Correct instantiation with required arguments\n",
        "    book1 = Book(\"The Great Gatsby\", \"F. Scott Fitzgerald\", 180)\n",
        "    book2 = Book(\"1984\", \"George Orwell\", 328)\n",
        "\n",
        "    print(book1)         # Calls __str__\n",
        "    print(repr(book1))   # Calls __repr__\n",
        "    print(len(book1))    # Calls __len__\n",
        "    print(book1 == book2) # Calls __eq__\n",
        "    print(book1 < book2)  # Calls __lt__\n",
        "\n",
        "if __name__ == \"__main__\":\n",
        "    main()\n"
      ],
      "metadata": {
        "id": "gtyKsbGl9Il_"
      },
      "execution_count": null,
      "outputs": []
    },
    {
      "cell_type": "markdown",
      "source": [
        "#Exception Handling\n",
        "24/02/2025"
      ],
      "metadata": {
        "id": "MUbdmvGr-Of9"
      }
    },
    {
      "cell_type": "code",
      "source": [
        "class BankingSystem:\n",
        "    def __init__(self , balance):\n",
        "        self.balance=balance\n",
        "\n",
        "    def withdraw(self , amount):\n",
        "        try:\n",
        "            if amount > self.balance:\n",
        "                raise ValueError(\"Insufficient Balance\")\n",
        "            elif amount < 0:\n",
        "                raise ValueError(\"Negetive Value is Not valid\")\n",
        "            else:\n",
        "              print(f\"total Balance: {self.balance}\")\n",
        "              print(\"Remaining Balance:\")\n",
        "              print(self.balance - amount)\n",
        "        except ValueError as e:\n",
        "          return f\"error:(e)\"\n",
        "          # return e\n",
        "\n",
        "account = BankingSystem(10000)\n",
        "print(account.withdraw(2000))"
      ],
      "metadata": {
        "id": "6UVurqHp-VMv"
      },
      "execution_count": null,
      "outputs": []
    },
    {
      "cell_type": "markdown",
      "source": [
        "#Divide By Zero Exception"
      ],
      "metadata": {
        "id": "Q0_t_meTMcCc"
      }
    },
    {
      "cell_type": "code",
      "source": [
        "class Check:\n",
        "  def __init__(self, nnum):\n",
        "     self.nnum=nnum\n",
        "  def checking(self,Dnum):\n",
        "    try:\n",
        "      if Dnum == 0:\n",
        "        raise ZeroDivisionError(\"cannot divide by zero\")\n",
        "      else:\n",
        "        print(self.nnum / Dnum)\n",
        "    except ZeroDivisionError as e:\n",
        "      return f\"error:{e}\"\n",
        "\n",
        "c=Check(4)\n",
        "print(c.checking(0))\n"
      ],
      "metadata": {
        "id": "DmqOdWmjJb-i"
      },
      "execution_count": null,
      "outputs": []
    },
    {
      "cell_type": "code",
      "source": [
        "class BankAccount:\n",
        "    def __init__(self, balance=0):\n",
        "        self.balance = balance\n",
        "\n",
        "    def withdraw(self, amount):\n",
        "        if amount > self.balance:\n",
        "            raise InsufficientFundError(self.balance, amount)\n",
        "        self.balance -= amount\n",
        "        return self.balance\n",
        "\n",
        "# Example usage:\n",
        "try:\n",
        "    account = BankAccount(100)  # Initial balance: $100\n",
        "    account.withdraw(150)  # Attempting to withdraw $150\n",
        "except InsufficientFundError as e:\n",
        "    print(e)  # Prints a friendly error message\n"
      ],
      "metadata": {
        "id": "ZIyRIxTyN93_"
      },
      "execution_count": null,
      "outputs": []
    },
    {
      "cell_type": "markdown",
      "source": [
        "#create and open a file\n",
        "03/03/2025"
      ],
      "metadata": {
        "id": "PyXe0PHQAiPx"
      }
    },
    {
      "cell_type": "code",
      "source": [
        "#open a file\n",
        "with open(\"example.txt\",\"w\")as file:\n",
        "  file.write(\"Hello World!\")"
      ],
      "metadata": {
        "id": "HIjOFm8VA1AF"
      },
      "execution_count": null,
      "outputs": []
    },
    {
      "cell_type": "code",
      "source": [
        "with open(\"example.txt\",\"w\")as file:\n",
        "  file.write(\"this is a new line of text.\\n\")\n",
        "  file.write(\"And another Line\")"
      ],
      "metadata": {
        "id": "Zp03fBSTCAx4"
      },
      "execution_count": null,
      "outputs": []
    },
    {
      "cell_type": "code",
      "source": [
        "with open(\"example.txt\",\"r\")as file:\n",
        "  content = file.read()\n",
        "  print(content)"
      ],
      "metadata": {
        "id": "JynmL9J1CV3S"
      },
      "execution_count": null,
      "outputs": []
    },
    {
      "cell_type": "code",
      "source": [
        "#read Line by Line\n",
        "with open(\"example.txt\",\"r\")as file:\n",
        "  for line in file:\n",
        "    print(line, end='')"
      ],
      "metadata": {
        "id": "Lmt8oxbfEjSZ"
      },
      "execution_count": null,
      "outputs": []
    },
    {
      "cell_type": "code",
      "source": [
        "with open(\"example.txt\",\"r\")as file:\n",
        "  content = file.read(5)\n",
        "  print(content)"
      ],
      "metadata": {
        "id": "7UBmsOpiFQFD"
      },
      "execution_count": null,
      "outputs": []
    },
    {
      "cell_type": "code",
      "source": [
        "with open(\"example.txt\", \"r\") as file:\n",
        "    line = file.readline()  # Corrected method name\n",
        "    print(line)  # Prints only the first line\n"
      ],
      "metadata": {
        "id": "ITfqTcPmGMtZ"
      },
      "execution_count": null,
      "outputs": []
    },
    {
      "cell_type": "code",
      "source": [
        "# if the file already exixt, catch block will run or new file will be created\n",
        "try:\n",
        "  with open('example.txt','x') as file:\n",
        "    file.write(\"this is a new file\")\n",
        "except FileExistsError:\n",
        "  print(\"file already exist\")"
      ],
      "metadata": {
        "id": "fNsMsLv5G7Bd"
      },
      "execution_count": null,
      "outputs": []
    },
    {
      "cell_type": "code",
      "source": [
        "import os\n",
        "\n",
        "filename = \"image.jpg\"\n",
        "\n",
        "try:\n",
        "    with open(filename, \"rb\") as file:\n",
        "        binary_data = file.read()\n",
        "\n",
        "    print(binary_data[:100])  # Print the first 100 bytes for verification\n",
        "except FileNotFoundError:\n",
        "    print(f\"Error: The file '{filename}' was not found. Please check the file path and try again.\")\n",
        "\n"
      ],
      "metadata": {
        "id": "WKLvfmtBH5Gw"
      },
      "execution_count": null,
      "outputs": []
    },
    {
      "cell_type": "code",
      "source": [
        "filename = \"example.txt\"\n",
        "\n",
        "try:\n",
        "    with open(filename, \"r+\") as file:\n",
        "        content = file.read()  # Read existing content\n",
        "        print(\"Existing content:\", content)\n",
        "\n",
        "        file.seek(0, 2)  # Move cursor to the end for appending\n",
        "        file.write(\"\\nNew Data\")  # Append new data\n",
        "except FileNotFoundError:\n",
        "    print(f\"Error: The file '{filename}' was not found.\")\n"
      ],
      "metadata": {
        "id": "d96ipLOQJFN1"
      },
      "execution_count": null,
      "outputs": []
    },
    {
      "cell_type": "code",
      "source": [
        "with open('example.txt', 'w+') as file:  # Open in write+read mode\n",
        "    file.write(\"New Data\")  # Write to the file\n",
        "    file.seek(0)  # Move the pointer to the beginning\n",
        "    content = file.read()  # Read the written content\n",
        "    print(content)  # Print the content"
      ],
      "metadata": {
        "id": "-KC8G4VNJ35s"
      },
      "execution_count": null,
      "outputs": []
    },
    {
      "cell_type": "code",
      "source": [
        "with open('example.txt', 'a+') as file:  # Open in append+read mode\n",
        "    file.write(\"This is the new line\\n\")  # Write to the file\n",
        "    file.seek(0)  # Move the pointer to the beginning\n",
        "    content = file.read()  # Read the entire file\n",
        "    print(content)  # Print the content"
      ],
      "metadata": {
        "id": "22sK-u2EKd6F"
      },
      "execution_count": null,
      "outputs": []
    },
    {
      "cell_type": "code",
      "source": [
        "class Teacher:\n",
        "    def info(self):\n",
        "        print(\"I am a Teacher.\")\n",
        "\n",
        "class Student:\n",
        "    def info(self):\n",
        "        print(\"I am a Student.\")\n",
        "\n",
        "# Using polymorphism\n",
        "for person in (Teacher(), Student()):\n",
        "    person.info()\n"
      ],
      "metadata": {
        "id": "dOPWmYFWAo97"
      },
      "execution_count": null,
      "outputs": []
    }
  ],
  "metadata": {
    "colab": {
      "provenance": [],
      "include_colab_link": true
    },
    "kernelspec": {
      "display_name": "Python 3",
      "name": "python3"
    },
    "language_info": {
      "name": "python"
    }
  },
  "nbformat": 4,
  "nbformat_minor": 0
}